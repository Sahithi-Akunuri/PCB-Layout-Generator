{
  "cells": [
    {
      "cell_type": "markdown",
      "source": [
        "# PCB-Layout-Generator"
      ],
      "metadata": {
        "id": "JLB7QNF0Ouyr"
      },
      "id": "JLB7QNF0Ouyr"
    },
    {
      "cell_type": "markdown",
      "source": [
        "## Importing Libraries"
      ],
      "metadata": {
        "id": "vOUp-DH2OfTn"
      },
      "id": "vOUp-DH2OfTn"
    },
    {
      "cell_type": "code",
      "execution_count": null,
      "id": "1c7a07fb-0abb-4826-ad07-50785bb579c0",
      "metadata": {
        "id": "1c7a07fb-0abb-4826-ad07-50785bb579c0"
      },
      "outputs": [],
      "source": [
        "import torch\n",
        "import torch.nn as nn\n",
        "import torch.optim as optim\n",
        "import pandas as pd\n",
        "import numpy as np\n",
        "import matplotlib.pyplot as plt\n",
        "from tqdm import tqdm"
      ]
    },
    {
      "cell_type": "markdown",
      "source": [
        "## Load the datasets"
      ],
      "metadata": {
        "id": "BBezTJ36Oj50"
      },
      "id": "BBezTJ36Oj50"
    },
    {
      "cell_type": "code",
      "execution_count": null,
      "id": "3e2de195-b57a-4956-9143-afc5eb4bea39",
      "metadata": {
        "colab": {
          "base_uri": "https://localhost:8080/"
        },
        "id": "3e2de195-b57a-4956-9143-afc5eb4bea39",
        "outputId": "dd9a1532-94b3-46d3-d091-c99ad9db54c6"
      },
      "outputs": [
        {
          "output_type": "stream",
          "name": "stdout",
          "text": [
            "Drive already mounted at /content/drive; to attempt to forcibly remount, call drive.mount(\"/content/drive\", force_remount=True).\n"
          ]
        }
      ],
      "source": [
        "from google.colab import drive\n",
        "drive.mount('/content/drive')\n",
        "\n",
        "components_df = pd.read_csv(\"/content/drive/MyDrive/INSYDE.IO/pcb_synthetic_dataset.csv\")\n",
        "connections_df = pd.read_csv(\"/content/drive/MyDrive/INSYDE.IO/pcb_connections.csv\")\n",
        "obstacles_df = pd.read_csv(\"/content/drive/MyDrive/INSYDE.IO/pcb_obstacles.csv\")"
      ]
    },
    {
      "cell_type": "markdown",
      "source": [
        "## Preprocess the Datasets"
      ],
      "metadata": {
        "id": "7u_Fw8KpOn2M"
      },
      "id": "7u_Fw8KpOn2M"
    },
    {
      "cell_type": "code",
      "source": [
        "def normalize_data(df, cols):\n",
        "    for col in cols:\n",
        "        df[col] = (df[col] - df[col].min()) / (df[col].max() - df[col].min())\n",
        "    return df\n",
        "\n",
        "components_df = normalize_data(components_df, [\"X\", \"Y\", \"Power\"])\n",
        "\n",
        "component_types = {comp: i for i, comp in enumerate(components_df[\"ComponentType\"].unique())}\n",
        "components_df[\"ComponentType\"] = components_df[\"ComponentType\"].map(component_types)\n",
        "\n",
        "num_components = len(components_df)\n",
        "connection_matrix = torch.zeros((num_components, num_components))\n",
        "\n",
        "for _, row in connections_df.iterrows():\n",
        "    comp1, comp2 = int(row[\"ComponentA\"]), int(row[\"ComponentB\"])\n",
        "    if comp1 < num_components and comp2 < num_components:\n",
        "        connection_matrix[comp1, comp2] = 1\n",
        "        connection_matrix[comp2, comp1] = 1\n",
        "\n",
        "connection_features = connection_matrix.sum(dim=1).unsqueeze(1)\n",
        "\n",
        "data = torch.tensor(components_df[[\"ComponentType\", \"Width\", \"Height\", \"Power\"]].values, dtype=torch.float32)\n",
        "data = torch.cat([data, connection_features], dim=1)\n",
        "\n",
        "true_positions = torch.tensor(components_df[[\"X\", \"Y\"]].values, dtype=torch.float32)"
      ],
      "metadata": {
        "id": "cOK6wWxtrGw2"
      },
      "id": "cOK6wWxtrGw2",
      "execution_count": null,
      "outputs": []
    },
    {
      "cell_type": "markdown",
      "source": [
        "## Custom Loss Function"
      ],
      "metadata": {
        "id": "XG8k3YB6O7k4"
      },
      "id": "XG8k3YB6O7k4"
    },
    {
      "cell_type": "markdown",
      "source": [
        "* Component Type - Different components have unique placement preferences (e.g., ICs near capacitors for power stability).\n",
        "\n",
        "* Power Constraints - High-power components should be spaced apart to prevent overheating.\n",
        "\n",
        "* Connections - Components that are frequently connected should be closer together.\n",
        "\n",
        "* Obstacles - The model must avoid placing components in restricted zones.*"
      ],
      "metadata": {
        "id": "zfkwTToCQcdJ"
      },
      "id": "zfkwTToCQcdJ"
    },
    {
      "cell_type": "code",
      "source": [
        "class LayoutLoss(nn.Module):\n",
        "    def __init__(self, lambda_conn=1.0, lambda_power=1.0, lambda_obstacle=5.0, lambda_overlap=10.0):\n",
        "        super(LayoutLoss, self).__init__()\n",
        "        self.lambda_conn = lambda_conn\n",
        "        self.lambda_power = lambda_power\n",
        "        self.lambda_obstacle = lambda_obstacle\n",
        "        self.lambda_overlap = lambda_overlap\n",
        "\n",
        "    def forward(self, predicted_positions, true_positions, components, connections, obstacles):\n",
        "        loss = 0\n",
        "        batch_size = predicted_positions.shape[0]\n",
        "\n",
        "        # 1. **Connection Distance Loss**\n",
        "        conn_loss = 0\n",
        "        for _, row in connections.iterrows():\n",
        "            idx1, idx2 = int(row[\"ComponentA\"]), int(row[\"ComponentB\"])\n",
        "            if idx1 < batch_size and idx2 < batch_size:\n",
        "                dist = torch.norm(predicted_positions[idx1] - predicted_positions[idx2])\n",
        "                conn_loss += (dist - 0.1) ** 2\n",
        "\n",
        "        # 2. **Power Constraint Loss**\n",
        "        power_loss = 0\n",
        "        for i in range(batch_size):\n",
        "            for j in range(i + 1, batch_size):\n",
        "                power_i, power_j = components.iloc[i][\"Power\"], components.iloc[j][\"Power\"]\n",
        "                if power_i * power_j > 0:\n",
        "                    dist = torch.norm(predicted_positions[i] - predicted_positions[j])\n",
        "                    power_loss += max(0, 0.2 - dist) * (power_i * power_j)\n",
        "\n",
        "        # 3. **Obstacle Avoidance Loss**\n",
        "        obstacle_loss = 0\n",
        "        for i in range(batch_size):\n",
        "            x, y = predicted_positions[i, 0].item(), predicted_positions[i, 1].item()\n",
        "            for _, obs in obstacles.iterrows():\n",
        "                obs_x, obs_y, obs_w, obs_h = obs[\"X\"], obs[\"Y\"], obs[\"Width\"], obs[\"Height\"]\n",
        "                if obs_x <= x <= obs_x + obs_w and obs_y <= y <= obs_y + obs_h:\n",
        "                    obstacle_loss += 1\n",
        "\n",
        "        # 4. **Overlap Loss**\n",
        "        overlap_loss = 0\n",
        "        for i in range(batch_size):\n",
        "            for j in range(i + 1, batch_size):\n",
        "                dist = torch.norm(predicted_positions[i] - predicted_positions[j])\n",
        "                if dist < 0.05:\n",
        "                    overlap_loss += 1\n",
        "\n",
        "        # **Final Loss Computation**\n",
        "        loss = (\n",
        "            self.lambda_conn * conn_loss +\n",
        "            self.lambda_power * power_loss +\n",
        "            self.lambda_obstacle * obstacle_loss +\n",
        "            self.lambda_overlap * overlap_loss\n",
        "        )\n",
        "        return loss"
      ],
      "metadata": {
        "id": "Vo8YRmAz-gjM"
      },
      "id": "Vo8YRmAz-gjM",
      "execution_count": null,
      "outputs": []
    },
    {
      "cell_type": "markdown",
      "source": [
        "## DL Model using PyTorch"
      ],
      "metadata": {
        "id": "N5r6glGrPBbF"
      },
      "id": "N5r6glGrPBbF"
    },
    {
      "cell_type": "code",
      "execution_count": null,
      "id": "3a95eff9-7fab-4153-9400-9937cb54e1c8",
      "metadata": {
        "id": "3a95eff9-7fab-4153-9400-9937cb54e1c8"
      },
      "outputs": [],
      "source": [
        "class LayoutPredictor(nn.Module):\n",
        "    def __init__(self, input_dim, hidden_dim, output_dim):\n",
        "        super(LayoutPredictor, self).__init__()\n",
        "        self.fc1 = nn.Linear(input_dim, hidden_dim)\n",
        "        self.fc2 = nn.Linear(hidden_dim, hidden_dim)\n",
        "        self.fc3 = nn.Linear(hidden_dim, output_dim)\n",
        "\n",
        "    def forward(self, x):\n",
        "        x = torch.relu(self.fc1(x))\n",
        "        x = torch.relu(self.fc2(x))\n",
        "        x = self.fc3(x)\n",
        "        return x"
      ]
    },
    {
      "cell_type": "markdown",
      "source": [
        "## Initialize the model"
      ],
      "metadata": {
        "id": "xX4RfKM-PIML"
      },
      "id": "xX4RfKM-PIML"
    },
    {
      "cell_type": "code",
      "execution_count": null,
      "id": "aa466888-4985-4066-bfdf-a23604e267ec",
      "metadata": {
        "id": "aa466888-4985-4066-bfdf-a23604e267ec"
      },
      "outputs": [],
      "source": [
        "input_dim = 5\n",
        "hidden_dim = 64\n",
        "output_dim = 2\n",
        "\n",
        "model = LayoutPredictor(input_dim, hidden_dim, output_dim)\n",
        "criterion = LayoutLoss()\n",
        "optimizer = optim.Adam(model.parameters(), lr=0.01)"
      ]
    },
    {
      "cell_type": "code",
      "source": [
        "device = torch.device(\"cuda\" if torch.cuda.is_available() else \"cpu\")\n",
        "model.to(device)\n",
        "data = data.to(device)\n",
        "true_positions = true_positions.to(device)"
      ],
      "metadata": {
        "id": "4gusJFzXs_u0"
      },
      "id": "4gusJFzXs_u0",
      "execution_count": null,
      "outputs": []
    },
    {
      "cell_type": "markdown",
      "source": [
        "## Training"
      ],
      "metadata": {
        "id": "HjTCnZ4qPLz5"
      },
      "id": "HjTCnZ4qPLz5"
    },
    {
      "cell_type": "code",
      "source": [
        "from tqdm import tqdm\n",
        "from torch.utils.data import DataLoader, TensorDataset\n",
        "\n",
        "num_epochs = 1\n",
        "batch_size = 32\n",
        "dataset = TensorDataset(data, true_positions)\n",
        "dataloader = DataLoader(dataset, batch_size=batch_size, shuffle=True)\n",
        "\n",
        "losses = []\n",
        "\n",
        "for epoch in range(num_epochs):\n",
        "    epoch_loss = 0\n",
        "    progress_bar = tqdm(dataloader, desc=f\"Epoch {epoch+1}/{num_epochs}\", leave=False)\n",
        "\n",
        "    for batch_data, batch_targets in progress_bar:\n",
        "        batch_data, batch_targets = batch_data.to(device), batch_targets.to(device)\n",
        "\n",
        "        optimizer.zero_grad()\n",
        "        predictions = model(batch_data)\n",
        "        loss = criterion(predictions, batch_targets, components_df, connections_df, obstacles_df)\n",
        "        loss.backward()\n",
        "        optimizer.step()\n",
        "\n",
        "        epoch_loss += loss.item()\n",
        "        progress_bar.set_postfix(loss=loss.item())\n",
        "\n",
        "    avg_loss = epoch_loss / len(dataloader)\n",
        "    losses.append(avg_loss)\n",
        "    print(f\"Epoch {epoch+1}/{num_epochs}, Avg Loss: {avg_loss:.4f}\")"
      ],
      "metadata": {
        "colab": {
          "base_uri": "https://localhost:8080/"
        },
        "id": "YRR78WDEtJaa",
        "outputId": "ff73f2ca-0b04-42a9-8591-e2101bbef54e"
      },
      "id": "YRR78WDEtJaa",
      "execution_count": null,
      "outputs": [
        {
          "output_type": "stream",
          "name": "stderr",
          "text": [
            "                                                                       "
          ]
        },
        {
          "output_type": "stream",
          "name": "stdout",
          "text": [
            "Epoch 1/1, Avg Loss: 1081.7696\n"
          ]
        },
        {
          "output_type": "stream",
          "name": "stderr",
          "text": [
            "\r"
          ]
        }
      ]
    },
    {
      "cell_type": "markdown",
      "source": [
        "Because of resource and time constraints, only one epoch is done, in future improvements can proceed furthur by running multiple epocs and validate the decrement of loss"
      ],
      "metadata": {
        "id": "kOpV6X9GPRKt"
      },
      "id": "kOpV6X9GPRKt"
    },
    {
      "cell_type": "markdown",
      "source": [
        "## Visualization using matplotlib"
      ],
      "metadata": {
        "id": "bTXohb1YPjKr"
      },
      "id": "bTXohb1YPjKr"
    },
    {
      "cell_type": "code",
      "execution_count": null,
      "id": "bc1d3749-3bed-4610-860d-cfe02e4b66d1",
      "metadata": {
        "colab": {
          "base_uri": "https://localhost:8080/",
          "height": 472
        },
        "collapsed": true,
        "id": "bc1d3749-3bed-4610-860d-cfe02e4b66d1",
        "outputId": "022a64d2-8286-4f03-fde8-55c188200755"
      },
      "outputs": [
        {
          "output_type": "display_data",
          "data": {
            "text/plain": [
              "<Figure size 640x480 with 1 Axes>"
            ],
            "image/png": "[encoded data removed]"
          },
          "metadata": {}
        }
      ],
      "source": [
        "plt.plot(range(1, num_epochs + 1), losses, marker='o', linestyle='-')\n",
        "plt.xlabel('Epochs')\n",
        "plt.ylabel('Loss')\n",
        "plt.title('Training Loss Curve')\n",
        "plt.grid(True)\n",
        "plt.show()"
      ]
    },
    {
      "cell_type": "markdown",
      "source": [
        "## Save the model"
      ],
      "metadata": {
        "id": "FVOcd6UdPnCU"
      },
      "id": "FVOcd6UdPnCU"
    },
    {
      "cell_type": "code",
      "source": [
        "torch.save(model.state_dict(), \"pcb_layout_model.pth\")\n",
        "print(\"Model saved successfully!\")\n",
        "\n",
        "model.load_state_dict(torch.load(\"pcb_layout_model.pth\"))\n",
        "model.eval()\n",
        "print(\"Model loaded successfully!\")"
      ],
      "metadata": {
        "colab": {
          "base_uri": "https://localhost:8080/"
        },
        "id": "4ZPHmRbMwlI9",
        "outputId": "64f8016e-c725-41e6-a120-0e1a381783f1"
      },
      "id": "4ZPHmRbMwlI9",
      "execution_count": null,
      "outputs": [
        {
          "output_type": "stream",
          "name": "stdout",
          "text": [
            "Model saved successfully!\n",
            "Model loaded successfully!\n"
          ]
        },
        {
          "output_type": "stream",
          "name": "stderr",
          "text": [
            "<ipython-input-24-99a803722fb5>:6: FutureWarning: You are using `torch.load` with `weights_only=False` (the current default value), which uses the default pickle module implicitly. It is possible to construct malicious pickle data which will execute arbitrary code during unpickling (See https://github.com/pytorch/pytorch/blob/main/SECURITY.md#untrusted-models for more details). In a future release, the default value for `weights_only` will be flipped to `True`. This limits the functions that could be executed during unpickling. Arbitrary objects will no longer be allowed to be loaded via this mode unless they are explicitly allowlisted by the user via `torch.serialization.add_safe_globals`. We recommend you start setting `weights_only=True` for any use case where you don't have full control of the loaded file. Please open an issue on GitHub for any issues related to this experimental feature.\n",
            "  model.load_state_dict(torch.load(\"pcb_layout_model.pth\"))\n"
          ]
        }
      ]
    },
    {
      "cell_type": "code",
      "source": [],
      "metadata": {
        "id": "kbJRBOmr2C2C"
      },
      "id": "kbJRBOmr2C2C",
      "execution_count": null,
      "outputs": []
    }
  ],
  "metadata": {
    "kernelspec": {
      "display_name": "Python 3",
      "name": "python3"
    },
    "language_info": {
      "codemirror_mode": {
        "name": "ipython",
        "version": 3
      },
      "file_extension": ".py",
      "mimetype": "text/x-python",
      "name": "python",
      "nbconvert_exporter": "python",
      "pygments_lexer": "ipython3",
      "version": "3.12.3"
    },
    "colab": {
      "provenance": [],
      "gpuType": "T4"
    },
    "accelerator": "GPU"
  },
  "nbformat": 4,
  "nbformat_minor": 5
}