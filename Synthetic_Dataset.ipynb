{
  "cells": [
    {
      "cell_type": "markdown",
      "source": [
        "## Creation of synthetic dataset:"
      ],
      "metadata": {
        "id": "QivGCMlJQLGJ"
      },
      "id": "QivGCMlJQLGJ"
    },
    {
      "cell_type": "code",
      "execution_count": 1,
      "id": "89a6928b-45dc-49a3-a756-912761300708",
      "metadata": {
        "colab": {
          "base_uri": "https://localhost:8080/"
        },
        "id": "89a6928b-45dc-49a3-a756-912761300708",
        "outputId": "7dd08dd7-7a74-41e3-db23-356ef230662e"
      },
      "outputs": [
        {
          "output_type": "stream",
          "name": "stdout",
          "text": [
            "Datasets saved: pcb_synthetic_dataset.csv, pcb_connections.csv, pcb_obstacles.csv\n",
            "   SampleID  ComponentID ComponentType   X   Y  Width  Height  Power\n",
            "0         0            0         Diode  67  19     19      14   4.13\n",
            "1         0            1      Inductor  61  65     10       7   0.38\n",
            "2         0            2         Diode  43  41     18       8   0.62\n",
            "3         0            3      Resistor  10  37     11       7   0.25\n",
            "4         0            4         Diode  38  52      5      18   2.19\n",
            "   SampleID  ComponentA  ComponentB\n",
            "0         0           5           0\n",
            "1         1           3           2\n",
            "2         1           1           9\n",
            "3         1           0           1\n",
            "4         2           4           5\n",
            "   SampleID  ObstacleID   X   Y  Width  Height\n",
            "0         0           0   9  51      5      14\n",
            "1         0           1  10  79      9      14\n",
            "2         0           2  56  26      8       9\n",
            "3         1           0  21  64     12       7\n",
            "4         1           1  52  34     10      13\n"
          ]
        }
      ],
      "source": [
        "import numpy as np\n",
        "import pandas as pd\n",
        "import random\n",
        "\n",
        "def generate_pcb_dataset(num_samples=1000, board_size=(100, 100), num_components_range=(5, 15)):\n",
        "    data = []\n",
        "    connections = []\n",
        "    obstacles_data = []\n",
        "\n",
        "    for sample_id in range(num_samples):\n",
        "        num_components = random.randint(*num_components_range)\n",
        "        components = []\n",
        "        obstacles = []\n",
        "\n",
        "        num_obstacles = random.randint(1, 4)\n",
        "        for obs_id in range(num_obstacles):\n",
        "            obs_x = random.randint(0, board_size[0] - 10)\n",
        "            obs_y = random.randint(0, board_size[1] - 10)\n",
        "            obs_w = random.randint(5, 15)\n",
        "            obs_h = random.randint(5, 15)\n",
        "            obstacles.append((obs_x, obs_y, obs_w, obs_h))\n",
        "            obstacles_data.append((sample_id, obs_id, obs_x, obs_y, obs_w, obs_h))\n",
        "\n",
        "        for comp_id in range(num_components):\n",
        "            comp_type = random.choice([\"Resistor\", \"Capacitor\", \"IC\", \"Diode\", \"Inductor\"])\n",
        "            comp_w = random.randint(5, 20)\n",
        "            comp_h = random.randint(5, 20)\n",
        "            power = round(random.uniform(0.1, 5.0), 2)\n",
        "\n",
        "            while True:\n",
        "                x = random.randint(0, board_size[0] - comp_w)\n",
        "                y = random.randint(0, board_size[1] - comp_h)\n",
        "\n",
        "                if not any(\n",
        "                    (x < ox + ow and x + comp_w > ox and y < oy + oh and y + comp_h > oy)\n",
        "                    for ox, oy, ow, oh in obstacles\n",
        "                ):\n",
        "                    break\n",
        "\n",
        "            components.append((comp_id, comp_type, x, y, comp_w, comp_h, power))\n",
        "\n",
        "        num_connections = random.randint(1, num_components - 1)\n",
        "        for _ in range(num_connections):\n",
        "            comp_a, comp_b = random.sample(range(num_components), 2)\n",
        "            connections.append((sample_id, comp_a, comp_b))\n",
        "\n",
        "        for comp in components:\n",
        "            data.append((sample_id, *comp))\n",
        "\n",
        "    columns = [\"SampleID\", \"ComponentID\", \"ComponentType\", \"X\", \"Y\", \"Width\", \"Height\", \"Power\"]\n",
        "    df = pd.DataFrame(data, columns=columns)\n",
        "\n",
        "    connection_df = pd.DataFrame(connections, columns=[\"SampleID\", \"ComponentA\", \"ComponentB\"])\n",
        "\n",
        "    obstacle_df = pd.DataFrame(obstacles_data, columns=[\"SampleID\", \"ObstacleID\", \"X\", \"Y\", \"Width\", \"Height\"])\n",
        "\n",
        "    df.to_csv(\"pcb_synthetic_dataset.csv\", index=False)\n",
        "    connection_df.to_csv(\"pcb_connections.csv\", index=False)\n",
        "    obstacle_df.to_csv(\"pcb_obstacles.csv\", index=False)\n",
        "    print(\"Datasets saved: pcb_synthetic_dataset.csv, pcb_connections.csv, pcb_obstacles.csv\")\n",
        "    return df, connection_df, obstacle_df\n",
        "\n",
        "df, connection_df, obstacle_df = generate_pcb_dataset()\n",
        "print(df.head())\n",
        "print(connection_df.head())\n",
        "print(obstacle_df.head())"
      ]
    },
    {
      "cell_type": "code",
      "source": [],
      "metadata": {
        "id": "NCyHgSDYQO99"
      },
      "id": "NCyHgSDYQO99",
      "execution_count": null,
      "outputs": []
    }
  ],
  "metadata": {
    "kernelspec": {
      "display_name": "Python 3 (ipykernel)",
      "language": "python",
      "name": "python3"
    },
    "language_info": {
      "codemirror_mode": {
        "name": "ipython",
        "version": 3
      },
      "file_extension": ".py",
      "mimetype": "text/x-python",
      "name": "python",
      "nbconvert_exporter": "python",
      "pygments_lexer": "ipython3",
      "version": "3.12.3"
    },
    "colab": {
      "provenance": []
    }
  },
  "nbformat": 4,
  "nbformat_minor": 5
}